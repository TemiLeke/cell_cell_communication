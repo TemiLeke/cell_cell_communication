{
 "cells": [
  {
   "cell_type": "code",
   "execution_count": null,
   "id": "a82297f6",
   "metadata": {},
   "outputs": [],
   "source": [
    "import os\n",
    "import logging\n",
    "import warnings\n",
    "from gsva_prep import prep_gsva\n",
    "from itertools import chain\n",
    "from functions import helper_functions"
   ]
  },
  {
   "cell_type": "markdown",
   "id": "a547c87e",
   "metadata": {},
   "source": [
    "\n",
    "## **Data Prep Parameters**\n",
    "\n",
    "- `map_meta`: Indicates if metadata mapping is required for `pathology.group`. If set to False, `pathology.group` must exist in `adata.obs`\n",
    "\n",
    "- `test_names`: List of the different test names of interest.\n",
    "\n",
    "- `save_prefix`: Preferred prefix for saving critical files. Ideally chosen to be in the format `{source name}_{brain region}`. e.g `mathys_pfc`\n",
    "\n",
    "- `subject_id`: Column name for Subject/Patient ID in both metadata and `.obs`"
   ]
  },
  {
   "cell_type": "code",
   "execution_count": null,
   "id": "14358d49",
   "metadata": {},
   "outputs": [],
   "source": [
    "save_prefix = 'seaad_mtg'                           # this takes the format '{StudyName}_{ThreeLetterAccronymForBrainRegion}'\n",
    "subject_id = 'Donor ID'  \n",
    "cell_type_column = 'Subclass'                       # 'Supertype (non-expanded)', 'Subclass'\n",
    "region_name = save_prefix.split('_')[-1].upper()\n",
    "\n",
    "save_dir = f'/media/tadeoye/Volume1/SEA-AD/{region_name}/RNAseq/'\n",
    "\n",
    "if not os.path.exists(save_dir):\n",
    "    os.makedirs(save_dir)\n",
    "\n",
    "subclass = {\n",
    "    'excitatory': ['L5 IT', 'L2/3 IT', 'L4 IT', 'L6 IT', 'L6 IT Car3', 'L5/6 NP', 'L6b', 'L6 CT', 'L5 ET'],\n",
    "    'inhibitory': ['Pvalb', 'Sst', 'Lamp5 Lhx6', 'Vip', 'Lamp5', 'Sncg', 'Chandelier', 'Sst Chodl', 'Pax6'],\n",
    "    'astrocyte': ['Astrocyte'],\n",
    "    'microglia': ['Microglia-PVM'],\n",
    "    'opc': ['OPC'],\n",
    "    'oligodendrocyte': ['Oligodendrocyte'],\n",
    "    'endothelial': ['Endothelial'],\n",
    "    'vlmc': ['VLMC'],\n",
    "    }\n",
    "\n",
    "cell_supertype = list(chain(*list(subclass.values())))"
   ]
  },
  {
   "cell_type": "markdown",
   "id": "31fbba9a",
   "metadata": {},
   "source": [
    "## **Load and Prep Data**\n",
    "\n",
    "load the preprocessed and annotated data.\n",
    "\n",
    "Make sure the anndata has the count data in either `.layers` or in `.X`. if count data is not in `.layers` it will be assumed that `.X ` contains the counts"
   ]
  },
  {
   "cell_type": "code",
   "execution_count": null,
   "id": "aa4774ba",
   "metadata": {},
   "outputs": [
    {
     "name": "stdout",
     "output_type": "stream",
     "text": [
      "\"counts\" not in layers...\n",
      "analysis requires unnormalized count data...\n",
      "\"adata.X\" will be used as count data...\n"
     ]
    },
    {
     "data": {
      "text/plain": [
       "View of AnnData object with n_obs × n_vars = 1164766 × 36601\n",
       "    obs: 'sample_id', 'Neurotypical reference', 'Donor ID', 'Organism', 'Brain Region', 'Sex', 'Gender', 'Age at Death', 'Race (choice=White)', 'Race (choice=Black/ African American)', 'Race (choice=Asian)', 'Race (choice=American Indian/ Alaska Native)', 'Race (choice=Native Hawaiian or Pacific Islander)', 'Race (choice=Unknown or unreported)', 'Race (choice=Other)', 'specify other race', 'Hispanic/Latino', 'Highest level of education', 'Years of education', 'PMI', 'Fresh Brain Weight', 'Brain pH', 'Overall AD neuropathological Change', 'Thal', 'Braak', 'CERAD score', 'Overall CAA Score', 'Highest Lewy Body Disease', 'Total Microinfarcts (not observed grossly)', 'Total microinfarcts in screening sections', 'Atherosclerosis', 'Arteriolosclerosis', 'LATE', 'Cognitive Status', 'Last CASI Score', 'Interval from last CASI in months', 'Last MMSE Score', 'Interval from last MMSE in months', 'Last MOCA Score', 'Interval from last MOCA in months', 'APOE Genotype', 'Primary Study Name', 'Secondary Study Name', 'NeuN positive fraction on FANS', 'RIN', 'cell_prep_type', 'facs_population_plan', 'rna_amplification', 'sample_name', 'sample_quantity_count', 'expc_cell_capture', 'method', 'pcr_cycles', 'percent_cdna_longer_than_400bp', 'rna_amplification_pass_fail', 'amplified_quantity_ng', 'load_name', 'library_prep', 'library_input_ng', 'r1_index', 'avg_size_bp', 'quantification_fmol', 'library_prep_pass_fail', 'exp_component_vendor_name', 'batch_vendor_name', 'experiment_component_failed', 'alignment', 'Genome', 'ar_id', 'bc', 'GEX_Estimated_number_of_cells', 'GEX_number_of_reads', 'GEX_sequencing_saturation', 'GEX_Mean_raw_reads_per_cell', 'GEX_Q30_bases_in_barcode', 'GEX_Q30_bases_in_read_2', 'GEX_Q30_bases_in_UMI', 'GEX_Percent_duplicates', 'GEX_Q30_bases_in_sample_index_i1', 'GEX_Q30_bases_in_sample_index_i2', 'GEX_Reads_with_TSO', 'GEX_Sequenced_read_pairs', 'GEX_Valid_UMIs', 'GEX_Valid_barcodes', 'GEX_Reads_mapped_to_genome', 'GEX_Reads_mapped_confidently_to_genome', 'GEX_Reads_mapped_confidently_to_intergenic_regions', 'GEX_Reads_mapped_confidently_to_intronic_regions', 'GEX_Reads_mapped_confidently_to_exonic_regions', 'GEX_Reads_mapped_confidently_to_transcriptome', 'GEX_Reads_mapped_antisense_to_gene', 'GEX_Fraction_of_transcriptomic_reads_in_cells', 'GEX_Total_genes_detected', 'GEX_Median_UMI_counts_per_cell', 'GEX_Median_genes_per_cell', 'Multiome_Feature_linkages_detected', 'Multiome_Linked_genes', 'Multiome_Linked_peaks', 'ATAC_Confidently_mapped_read_pairs', 'ATAC_Fraction_of_genome_in_peaks', 'ATAC_Fraction_of_high_quality_fragments_in_cells', 'ATAC_Fraction_of_high_quality_fragments_overlapping_TSS', 'ATAC_Fraction_of_high_quality_fragments_overlapping_peaks', 'ATAC_Fraction_of_transposition_events_in_peaks_in_cells', 'ATAC_Mean_raw_read_pairs_per_cell', 'ATAC_Median_high_quality_fragments_per_cell', 'ATAC_Non-nuclear_read_pairs', 'ATAC_Number_of_peaks', 'ATAC_Percent_duplicates', 'ATAC_Q30_bases_in_barcode', 'ATAC_Q30_bases_in_read_1', 'ATAC_Q30_bases_in_read_2', 'ATAC_Q30_bases_in_sample_index_i1', 'ATAC_Sequenced_read_pairs', 'ATAC_TSS_enrichment_score', 'ATAC_Unmapped_read_pairs', 'ATAC_Valid_barcodes', 'Number of mapped reads', 'Number of unmapped reads', 'Number of multimapped reads', 'Number of reads', 'Number of UMIs', 'Genes detected', 'Doublet score', 'Fraction mitochondrial UMIs', 'Used in analysis', 'Class confidence', 'Class', 'Subclass confidence', 'Subclass', 'Supertype confidence', 'Supertype (non-expanded)', 'Supertype', 'Continuous Pseudo-progression Score', 'Severely Affected Donor'\n",
       "    var: 'gene_ids'\n",
       "    uns: 'APOE4 Status_colors', 'Braak_colors', 'CERAD score_colors', 'Cognitive Status_colors', 'Great Apes Metadata', 'Highest Lewy Body Disease_colors', 'LATE_colors', 'Overall AD neuropathological Change_colors', 'Sex_colors', 'Subclass_colors', 'Supertype_colors', 'Thal_colors', 'UW Clinical Metadata', 'X_normalization', 'batch_condition', 'default_embedding', 'neighbors', 'title', 'umap'\n",
       "    obsm: 'X_scVI', 'X_umap'\n",
       "    layers: 'UMIs'\n",
       "    obsp: 'connectivities', 'distances'"
      ]
     },
     "metadata": {},
     "output_type": "display_data"
    }
   ],
   "source": [
    "# adata_annot = sc.read_h5ad(f'../data/raw/{save_prefix}/anndata/rna/{cell_group}_raw_anndata.h5ad')\n",
    "adata_annot = sc.read_h5ad(save_dir + f'anndata/{save_prefix.upper()}_RNAseq_final-nuclei.2024-02-13.h5ad')\n",
    "adata_annot.obs_names_make_unique()\n",
    "adata_annot.var_names_make_unique()\n",
    "\n",
    "if 'counts' not in adata_annot.layers.keys():\n",
    "    print('\"counts\" not in layers...')\n",
    "    print('analysis requires unnormalized count data...')\n",
    "    print('\"adata.X\" will be used as count data...')\n",
    "\n",
    "# del adata_annot.obsm, adata_annot.varm, adata_annot.uns, adata_annot.obsp, adata_annot.var, adata_annot.layers\n",
    "\n",
    "celltypes = list(adata_annot.obs[cell_type_column].unique())\n",
    "\n",
    "# map the pathology group to the subject id in .obs\n",
    "\n",
    "adata_annot = adata_annot[adata_annot.obs.Subclass.isin(cell_supertype)]\n",
    "adata_annot = adata_annot[adata_annot.obs['Neurotypical reference'] == 'False']\n",
    "adata_annot = adata_annot[adata_annot.obs['Severely Affected Donor'] == 'N']\n",
    "\n",
    "adata_annot"
   ]
  },
  {
   "cell_type": "markdown",
   "id": "692e12d6",
   "metadata": {},
   "source": [
    "# **Parameters for Testing Differential Pathway Activity**\n",
    "\n",
    "The primary differential pathway activity analaysis:\n",
    "\n",
    "- `covariates`: Specifies variables to account for in the analysis:\n",
    "    - Must include `Continuous Pseudo-progression Score` which will later on be matched to`pathology.group` as the primary variable of interest.\n",
    "\n",
    "    - Can include additional confounding variables like:\n",
    "        - Demographic factors (e.g., `Sex`, `Age`)\n",
    "        - Technical factors (e.g., `Sample Batch`)\n",
    "\n",
    "    - If there are no additional confounders, set `covariates = ['Continuous Pseudo-progression Score']`.\n",
    "\n",
    "    - For the best results, ensure:\n",
    "        - continuous covariates are similarly scaled.\n",
    "        - uniformity in categorical data. E.g., Avoid having 'M', 'Male', and 'male' in the same dataset.\n",
    "        - regularly assess the impact of covariates by running the analyses with and without each covariate. Watch out for covariates unduly influencing results. Watch out for covariates unduly influencing results.\n",
    "\n",
    "- `random_effect`: Identifies the technical variable to be treated as random effects (in this case `subject_id` or `Sample_batch`). These effects are regressed out using `duplicatecorrection`. This would help account or technical variation not relevant to the biological question."
   ]
  },
  {
   "cell_type": "code",
   "execution_count": null,
   "id": "771c023c",
   "metadata": {},
   "outputs": [],
   "source": [
    "######################### Differential Pathway Activity arguments #########################\n",
    "random_effect = helper_functions.clean_strings([subject_id])[0]     # Technical covariate to be included as random effect not of interest (regressed out by duplicatecorrection)\n",
    "subject_id = random_effect\n",
    "\n",
    "covariates = [\n",
    "    'Continuous Pseudo-progression Score',\n",
    "    'Age at Death binned codes',\n",
    "    'Sex',\n",
    "    'PMI',\n",
    "    'Genes detected',\n",
    "    'Number of UMIs',\n",
    "    'method',\n",
    "    'Race (choice=White)',\n",
    "    'APOE4_Status'\n",
    "]\n",
    "\n",
    "covariates = helper_functions.clean_strings(covariates)\n",
    "\n",
    "numeric_covariates = helper_functions.clean_strings(['Age at Death',\n",
    "                                            'Continuous Pseudo-progression Score', \n",
    "                                            'PMI',\n",
    "                                            'Genes detected',\n",
    "                                            'Number of UMIs'])\n",
    "\n"
   ]
  },
  {
   "cell_type": "markdown",
   "id": "09f345ce",
   "metadata": {},
   "source": [
    "# **Standardize Covariate Column Names in `adata.obs` and split/save adata at cell sublcass level**\n",
    "\n",
    "\n",
    "Prior to differential pathway analysis, we implement the comprehensive covariate standardization and categorization employed **[here](https://github.com/AllenInstitute/SEA-AD_2024/blob/main/Single%20nucleus%20omics/04_Differential%20expression%20analysis/00_Split%20AnnData%20for%20nebula.ipynb)** to ensure robust statistical comparisons. \n",
    "\n",
    "Continuous variables were normalized to a [0,1] interval using min-max scaling, including `post-mortem interval (PMI)` and `the number of genes detected per cell`. \n",
    "\n",
    "`Age at death` was discretized into five equal-width bins and subsequently normalized to account for non-linear age effects.\n",
    "\n",
    "Categorical variables underwent systematic preprocessing to ensure consistent encoding. `Sex` was binary-encoded as F/M, while `APOE4` carrier status was derived from genotype information and encoded as Y/N. Race information, specifically White identification, was encoded as Checked/Unchecked. Technical covariates, including sequencing method and donor ID, were retained with cleaned category levels. \n",
    "\n",
    "For quality control metrics, we normalized the `number of unique molecular identifiers (UMIs)` and `genes detected per cell`,to enabling direct comparisons across samples.\n"
   ]
  },
  {
   "cell_type": "code",
   "execution_count": null,
   "id": "7cf4b6fa",
   "metadata": {},
   "outputs": [],
   "source": [
    "adata_annot.obs[\"continuous_pseudo_progression_score\"] = adata_annot.obs[\"Continuous Pseudo-progression Score\"].copy()\n",
    "\n",
    "\n",
    "adata_annot.obs[\"Age at Death\"] = adata_annot.obs[\"Age at Death\"].astype(\"object\")\n",
    "adata_annot.obs[\"Age at Death\"] = [np.float32(i) for i in adata_annot.obs[\"Age at Death\"]]\n",
    "adata_annot.obs[\"Age_at_Death_binned\"] = pd.cut(adata_annot.obs[\"Age at Death\"], bins=5)\n",
    "adata_annot.obs[\"age_at_death_binned_codes\"] = adata_annot.obs[\"Age_at_Death_binned\"].cat.codes\n",
    "adata_annot.obs[\"age_at_death_binned_codes\"] = adata_annot.obs[\"age_at_death_binned_codes\"] /  adata_annot.obs[\"age_at_death_binned_codes\"].max()\n",
    "\n",
    "adata_annot.obs[\"sex\"] = adata_annot.obs[\"Sex\"].astype(\"category\")\n",
    "adata_annot.obs[\"sex\"] = adata_annot.obs[\"sex\"].cat.remove_unused_categories()\n",
    "adata_annot.obs[\"sex\"] = adata_annot.obs[\"sex\"].cat.reorder_categories([\"Female\", \"Male\"])\n",
    "\n",
    "adata_annot.obs[\"race_choice_white\"] = adata_annot.obs[\"Race (choice=White)\"].astype(\"category\")\n",
    "adata_annot.obs[\"race_choice_white\"] = adata_annot.obs[\"race_choice_white\"].cat.remove_unused_categories()\n",
    "adata_annot.obs[\"race_choice_white\"] = adata_annot.obs[\"race_choice_white\"].cat.reorder_categories([\"Unchecked\", \"Checked\"])\n",
    "\n",
    "adata_annot.obs[\"method\"] = adata_annot.obs[\"method\"].cat.remove_unused_categories()\n",
    "\n",
    "adata_annot.obs[\"genes_detected\"] = (adata_annot.obs[\"Genes detected\"] - adata_annot.obs[\"Genes detected\"].min()) /\\\n",
    "                                     (adata_annot.obs[\"Genes detected\"].max() - adata_annot.obs[\"Genes detected\"].min())\n",
    "\n",
    "adata_annot.obs[\"donor_id\"] = adata_annot.obs[\"Donor ID\"].copy()\n",
    "\n",
    "adata_annot.obs[\"number_of_umis\"] = adata_annot.obs[\"Number of UMIs\"].copy()\n",
    "\n",
    "adata_annot.obs[\"PMI\"] = adata_annot.obs[\"PMI\"].astype(float)\n",
    "adata_annot.obs[\"pmi\"] = (adata_annot.obs[\"PMI\"] - adata_annot.obs[\"PMI\"].min()) /  (adata_annot.obs[\"PMI\"].max() - adata_annot.obs[\"PMI\"].min())\n",
    "\n",
    "adata_annot.obs[\"apoe4_status\"] = adata_annot.obs[\"APOE Genotype\"].str.contains(\"4\")\n",
    "adata_annot.obs[\"apoe4_status\"] = adata_annot.obs[\"apoe4_status\"].astype(\"category\")\n",
    "adata_annot.obs[\"apoe4_status\"] = adata_annot.obs[\"apoe4_status\"].cat.reorder_categories([False, True])\n",
    "adata_annot.obs[\"apoe4_status\"] = adata_annot.obs[\"apoe4_status\"].cat.rename_categories(\n",
    "    {\n",
    "        False: \"N\",\n",
    "        True: \"Y\",\n",
    "    }\n",
    ")\n",
    "\n",
    "for col in adata_annot.obs.keys():\n",
    "    if col not in covariates and col != cell_type_column and col!=random_effect:\n",
    "            try:\n",
    "                del adata_annot.obs[col]\n",
    "            except KeyError:\n",
    "                continue\n",
    "\n",
    "adata_annot.write_h5ad(save_dir+f'anndata/all_subclass_standardized_anndata.h5ad', compression='gzip')\n",
    "\n",
    "# split and save by subclass\n",
    "\n",
    "for subclass_group in cell_supertype:\n",
    "     adata_annot2 = adata_annot[adata_annot.obs[cell_type_column].isin([subclass_group])]\n",
    "     subclass_group = helper_functions.clean_strings([subclass_group], preserve_case=True)[0]\n",
    "     adata_annot2.write_h5ad(save_dir+f'anndata/{subclass_group}_standardized_anndata.h5ad', compression='gzip')\n",
    "\n",
    "adata_annot"
   ]
  }
 ],
 "metadata": {
  "kernelspec": {
   "display_name": "scRNA_seq_meta_analysis",
   "language": "python",
   "name": "python3"
  },
  "language_info": {
   "codemirror_mode": {
    "name": "ipython",
    "version": 3
   },
   "file_extension": ".py",
   "mimetype": "text/x-python",
   "name": "python",
   "nbconvert_exporter": "python",
   "pygments_lexer": "ipython3",
   "version": "3.10.6"
  },
  "vscode": {
   "interpreter": {
    "hash": "2f414a000012e1980f5fd1119ed6b9bf8cc73b51e37b52eb52a16ff857effd1c"
   }
  }
 },
 "nbformat": 4,
 "nbformat_minor": 5
}
