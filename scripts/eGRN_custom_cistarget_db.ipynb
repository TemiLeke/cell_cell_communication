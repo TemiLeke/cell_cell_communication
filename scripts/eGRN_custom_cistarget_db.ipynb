{
 "cells": [
  {
   "cell_type": "code",
   "execution_count": 1,
   "id": "c6c69a5c",
   "metadata": {},
   "outputs": [],
   "source": [
    "import os\n",
    "import sys\n",
    "import warnings\n",
    "import subprocess\n",
    "\n",
    "\n",
    "#supress warnings\n",
    "import warnings\n",
    "warnings.simplefilter(action='ignore', category=FutureWarning)\n",
    "\n",
    "_stderr = sys.stderr                                                         \n",
    "null = open(os.devnull,'wb')"
   ]
  },
  {
   "cell_type": "code",
   "execution_count": null,
   "id": "5b2a4f55",
   "metadata": {},
   "outputs": [],
   "source": [
    "os.getcwd()"
   ]
  },
  {
   "cell_type": "code",
   "execution_count": 3,
   "id": "b4f94a71",
   "metadata": {},
   "outputs": [],
   "source": [
    "save_prefix = 'seaad_mtg' # this takes the format '{StudyName}_{ThreeLetterAccronymForBrainRegion}'\n",
    "\n",
    "cell_type_column = 'Subclass' # 'Supertype (non-expanded)', 'Subclass'\n",
    "\n",
    "region_name = save_prefix.split('_')[-1].upper()\n",
    "save_dir = f'/media/tadeoye/Volume1/SEA-AD/{region_name}/ATACseq/results'\n",
    "tmp_dir = f'/media/tadeoye/Volume1/SEA-AD/{region_name}/ATACseq/temp_files'\n",
    "\n",
    "if not os.path.exists(save_dir):\n",
    "    os.makedirs(save_dir)"
   ]
  },
  {
   "cell_type": "markdown",
   "id": "576b0a2d-8b8c-4496-b8fe-a5644c550933",
   "metadata": {},
   "source": [
    "# **Creating a custom cistarget database**\n",
    "\n",
    "Here we will create the custom cistarget database using consensus peaks.\n",
    "\n",
    "This involves precomputed scores for all the motifs in our motif collection on a predefined set of regions\n",
    "\n",
    "The developers already provided precomputed databases for [human](https://resources.aertslab.org/cistarget/databases/homo_sapiens/hg38/screen/mc_v10_clust/region_based/), [mouse](https://resources.aertslab.org/cistarget/databases/mus_musculus/mm10/screen/mc_v10_clust/region_based/) and [fly](https://resources.aertslab.org/cistarget/databases/drosophila_melanogaster/dm6/flybase_r6.02/mc_v10_clust/region_based/). These databases are computed on regulatory regions spanning the genome. For the best result the authors recommend generating a custom database, given that it is highly likely that the precomputed databases don't cover all the regions in our consensus peak set."
   ]
  },
  {
   "cell_type": "markdown",
   "id": "1190f5d6-05fd-430d-8d73-97cabb988976",
   "metadata": {
    "tags": []
   },
   "source": [
    "## **Download `create_cistarget_database`**\n",
    "\n",
    "We will start by downloading and installing the `create_cistarget_database` repository."
   ]
  },
  {
   "cell_type": "code",
   "execution_count": null,
   "id": "62c7a392-f06a-4c7a-9b11-7457f5229c63",
   "metadata": {},
   "outputs": [],
   "source": [
    "target_dir = os.path.join(os.getcwd(), 'functions')\n",
    "working_dir = os.getcwd()\n",
    "os.chdir(target_dir)\n",
    "os.system('git clone https://github.com/aertslab/create_cisTarget_databases')       \n",
    "os.chdir(working_dir)"
   ]
  },
  {
   "cell_type": "markdown",
   "id": "f6b5044b-f4eb-4a69-b645-058c2c308174",
   "metadata": {},
   "source": [
    "## **Download `cluster-buster`**\n",
    "\n",
    "[Cluster-buster](https://github.com/weng-lab/cluster-buster) will be used to score the regions using the motif collection. We used the precompiled binary of cluster buster at **https://github.com/weng-lab/cluster-buster**\n"
   ]
  },
  {
   "cell_type": "code",
   "execution_count": null,
   "id": "9ee58007-64d0-43e5-b86d-c2e4eb19bc18",
   "metadata": {},
   "outputs": [],
   "source": [
    "target_dir = os.path.join(os.getcwd(), 'functions')\n",
    "working_dir = os.getcwd()\n",
    "os.chdir(target_dir )\n",
    "os.system('wget https://resources.aertslab.org/cistarget/programs/cbust -O cbust')       \n",
    "os.system('chmod a+x cbust')\n",
    "os.chdir(working_dir)"
   ]
  },
  {
   "cell_type": "markdown",
   "id": "0cc7b186-7aac-4993-9218-d01840ea642b",
   "metadata": {},
   "source": [
    "## **Download motif collection**\n",
    "\n",
    "Next, we will download the motif collection."
   ]
  },
  {
   "cell_type": "code",
   "execution_count": null,
   "id": "9b742119-875d-4a36-887e-82f02843d1e1",
   "metadata": {},
   "outputs": [],
   "source": [
    "os.makedirs(f\"{save_dir}/motif_collection\", exist_ok=True)\n",
    "os.system(f'wget -O {save_dir}/motif_collection/v10nr_clust_public.zip https://resources.aertslab.org/cistarget/motif_collections/v10nr_clust_public/v10nr_clust_public.zip')"
   ]
  },
  {
   "cell_type": "code",
   "execution_count": null,
   "id": "1de9beeb-b77c-4a0a-9e39-ce35c3930405",
   "metadata": {},
   "outputs": [],
   "source": [
    "os.chdir(f\"{save_dir}/motif_collection\")\n",
    "os.system('yes Y | unzip -q v10nr_clust_public.zip')       \n",
    "os.chdir(working_dir)"
   ]
  },
  {
   "cell_type": "markdown",
   "id": "624855cf-7ed5-45f9-bf3c-1ccfc2a922c6",
   "metadata": {},
   "source": [
    "These are the motif-to-TF annotations for:\n",
    "\n",
    "- **`Chicken`**: motifs-v10-nr.chicken-m0.00001-o0.0.tbl\n",
    "- **`fly`**: motifs-v10-nr.flybase-m0.00001-o0.0.tbl\n",
    "- **`human`**: motifs-v10-nr.hgnc-m0.00001-o0.0.tbl\n",
    "- **`mouse`**: motifs-v10-nr.mgi-m0.00001-o0.0.tbl"
   ]
  },
  {
   "cell_type": "code",
   "execution_count": null,
   "id": "bdb868c6-fb5f-4f20-874f-76488cbc941a",
   "metadata": {},
   "outputs": [],
   "source": [
    "os.system(f'ls {save_dir}/motif_collection/v10nr_clust_public/snapshots/')"
   ]
  },
  {
   "cell_type": "markdown",
   "id": "80ee106a-a829-4e78-a482-572e7634dfe7",
   "metadata": {},
   "source": [
    "Here are some example motifs, they are stored in cb format."
   ]
  },
  {
   "cell_type": "code",
   "execution_count": null,
   "id": "7a06bf5d-5fa9-4bd0-9cbb-e9d5b9c82ed9",
   "metadata": {},
   "outputs": [],
   "source": [
    "os.system(f'ls -l {save_dir}/motif_collection/v10nr_clust_public/singletons | head')"
   ]
  },
  {
   "cell_type": "code",
   "execution_count": null,
   "id": "23db27b0-ef8c-4b27-87d8-b3ce946a62fd",
   "metadata": {},
   "outputs": [],
   "source": [
    "os.system(f'cat {save_dir}/motif_collection/v10nr_clust_public/singletons/bergman__Adf1.cb')"
   ]
  },
  {
   "cell_type": "markdown",
   "id": "58c57e32-a87d-4ef4-97f0-0a8be62300da",
   "metadata": {},
   "source": [
    "## **Prepare fasta from consensus regions**\n",
    "\n",
    "Next we will get sequences for all the consensus peaks. We will also add 1kb of background padding, this will be used as a background sequence for cluster-buster. It is completely optional to add this padding, the authors have noticed that it does not affect the analyses a lot."
   ]
  },
  {
   "cell_type": "code",
   "execution_count": 5,
   "id": "ca8dd611",
   "metadata": {},
   "outputs": [],
   "source": [
    "os.makedirs(f\"{save_dir}/fasta\", exist_ok=True)\n",
    "\n",
    "target_url='https://hgdownload.cse.ucsc.edu/goldenPath/hg38/bigZips'\n",
    "\n",
    "REGION_BED = f\"{save_dir}/consensus_peak_calling/consensus_regions_modified.bed\"\n",
    "GENOME_FASTA = f\"{save_dir}/fasta/hg38.fa\"\n",
    "CHROMSIZES = f\"{save_dir}/fasta/hg38.chrom.sizes\"\n",
    "DATABASE_PREFIX = f\"{save_prefix}_1kb_bg_with_mask\"\n",
    "SCRIPT_DIR = f\"{working_dir}/functions/create_cisTarget_databases\"\n",
    "SAVE_PREFIX = save_prefix"
   ]
  },
  {
   "cell_type": "markdown",
   "id": "1a885e89",
   "metadata": {},
   "source": [
    "We can run this in python using"
   ]
  },
  {
   "cell_type": "code",
   "execution_count": null,
   "id": "64084707",
   "metadata": {},
   "outputs": [],
   "source": [
    "\n",
    "os.system(f'wget {target_url}/hg38.fa.gz -O {GENOME_FASTA}.gz')\n",
    "os.system(f'yes Y | gunzip -c {GENOME_FASTA}.gz > {GENOME_FASTA}') \n",
    "os.system(f'wget {target_url}/hg38.chrom.sizes -O {CHROMSIZES}')\n",
    "\n",
    "\n",
    "shell_command = f\"\"\"\n",
    "{SCRIPT_DIR}/create_fasta_with_padded_bg_from_bed.sh \\\\\n",
    "    {GENOME_FASTA} \\\\\n",
    "    {CHROMSIZES} \\\\\n",
    "    {REGION_BED} \\\\\n",
    "    {save_dir}/fasta/hg38.{SAVE_PREFIX}.with_1kb_bg_padding.fa \\\\\n",
    "    1000 \\\\\n",
    "    yes\n",
    "\"\"\"\n",
    "\n",
    "subprocess.run(shell_command, shell=True, check=True)"
   ]
  },
  {
   "cell_type": "code",
   "execution_count": null,
   "id": "2b6bbea0",
   "metadata": {},
   "outputs": [],
   "source": [
    "os.system(f\"head -n 2 {save_dir}/fasta/hg38.{SAVE_PREFIX}.with_1kb_bg_padding.fa\")"
   ]
  },
  {
   "cell_type": "markdown",
   "id": "d2eafc9c-e802-48b9-a5d2-524b7d6e583f",
   "metadata": {},
   "source": [
    "## Create cistarget databases\n",
    "\n",
    "Now we can create the ranking and score database. This step will take some time so we recommend to run it as a job (i.e. not in jupyter notebooks)."
   ]
  },
  {
   "cell_type": "code",
   "execution_count": null,
   "id": "83c7db12-96f8-4b88-8793-9ce5e4709680",
   "metadata": {},
   "outputs": [],
   "source": [
    "os.system(f'ls {save_dir}/motif_collection/v10nr_clust_public/singletons > {save_dir}/motif_collection/motifs.txt')"
   ]
  },
  {
   "cell_type": "code",
   "execution_count": null,
   "id": "3e2b070b",
   "metadata": {},
   "outputs": [],
   "source": [
    "os.system(f'export PATH=$PATH:/{working_dir}/functions/cbust')"
   ]
  },
  {
   "cell_type": "code",
   "execution_count": null,
   "id": "80a561aa-ce1c-456f-9a05-0d9c0fc04d1f",
   "metadata": {},
   "outputs": [],
   "source": [
    "OUT_DIR=f\"{save_dir}/motif_collection\"\n",
    "CBDIR=f\"{working_dir}/functions/cbust\"\n",
    "FASTA_FILE=f\"{save_dir}/fasta/hg38.{SAVE_PREFIX}.with_1kb_bg_padding.fa\"\n",
    "MOTIF_LIST=f\"{OUT_DIR}/motifs.txt\"\n",
    "MOTIF_DIR = f\"{save_dir}/motif_collection/v10nr_clust_public/singletons\"\n",
    "\n",
    "cmd = [\n",
    "    f\"{SCRIPT_DIR}/create_cistarget_motif_databases.py\",\n",
    "    \"-f\", FASTA_FILE,\n",
    "    \"-c\", CBDIR,\n",
    "    \"-M\", MOTIF_DIR,\n",
    "    \"-m\", MOTIF_LIST,\n",
    "    \"-o\", f\"{OUT_DIR}/{DATABASE_PREFIX}\",\n",
    "    \"--bgpadding\", \"1000\",\n",
    "    \"-t\", \"40\"\n",
    "]\n",
    "\n",
    "try:\n",
    "    result = subprocess.run(cmd, check=True, text=True, capture_output=True)\n",
    "    print(\"Command executed successfully\")\n",
    "    print(\"Output:\", result.stdout)\n",
    "except subprocess.CalledProcessError as e:\n",
    "    print(\"An error occurred while running the command\")\n",
    "    print(\"Error output:\", e.stderr)\n",
    "    print(\"Return code:\", e.returncode)\n",
    "    print(\"Command output:\", e.stdout)\n",
    "except FileNotFoundError:\n",
    "    print(f\"The script {cmd[0]} was not found. Please check the path.\")\n",
    "\n",
    "# If you want to see the command that was run:\n",
    "print(\"Command:\", \" \".join(cmd))"
   ]
  },
  {
   "cell_type": "markdown",
   "id": "87952040",
   "metadata": {},
   "source": [
    "## **Get Moftif Enrichment**"
   ]
  },
  {
   "cell_type": "markdown",
   "id": "11983f7e",
   "metadata": {},
   "source": [
    "We next use this custom cistarget database to estimate motif enrichment in `/scripts/eGRN_motif_enrichment.ipynb`"
   ]
  },
  {
   "cell_type": "markdown",
   "id": "2eed5f93",
   "metadata": {},
   "source": []
  }
 ],
 "metadata": {
  "kernelspec": {
   "display_name": "scenicplus",
   "language": "python",
   "name": "python3"
  },
  "language_info": {
   "codemirror_mode": {
    "name": "ipython",
    "version": 3
   },
   "file_extension": ".py",
   "mimetype": "text/x-python",
   "name": "python",
   "nbconvert_exporter": "python",
   "pygments_lexer": "ipython3",
   "version": "3.11.8"
  }
 },
 "nbformat": 4,
 "nbformat_minor": 5
}
